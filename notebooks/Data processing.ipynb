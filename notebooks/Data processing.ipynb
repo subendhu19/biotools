{
 "cells": [
  {
   "cell_type": "markdown",
   "metadata": {},
   "source": [
    "# PubMed"
   ]
  },
  {
   "cell_type": "code",
   "execution_count": 2,
   "metadata": {},
   "outputs": [],
   "source": [
    "import sys\n",
    "import os\n",
    "\n",
    "location = '../data/pubmed'\n",
    "files = []\n",
    "for file in os.listdir(location):\n",
    "    if file[-2:] == 'gz':\n",
    "        files.append(os.path.join(location, file))"
   ]
  },
  {
   "cell_type": "code",
   "execution_count": 48,
   "metadata": {},
   "outputs": [
    {
     "name": "stderr",
     "output_type": "stream",
     "text": [
      "100%|██████████| 972/972 [12:46:43<00:00, 47.33s/it]     \n"
     ]
    }
   ],
   "source": [
    "import gzip\n",
    "import xml.etree.ElementTree as ET\n",
    "from tqdm import tqdm\n",
    "\n",
    "pubmed_text_file = open('../data/pubmed.txt', 'w')\n",
    "\n",
    "for file in tqdm(files):\n",
    "    xml_input = gzip.open(file, 'r')\n",
    "    tree = ET.parse(xml_input)\n",
    "    root = tree.getroot()\n",
    "    for el1 in root:\n",
    "        for el2 in el1:\n",
    "            for el3 in el2:\n",
    "                for el4 in el3:\n",
    "                    if el4.tag == 'Abstract':\n",
    "                        if el4[0].text:\n",
    "                            pubmed_text_file.write(el4[0].text + '\\n')\n",
    "\n",
    "pubmed_text_file.close()"
   ]
  },
  {
   "cell_type": "markdown",
   "metadata": {},
   "source": [
    "# MIMIC"
   ]
  },
  {
   "cell_type": "code",
   "execution_count": 4,
   "metadata": {},
   "outputs": [
    {
     "name": "stderr",
     "output_type": "stream",
     "text": [
      "/Users/subendhu/anaconda/envs/allennlp/lib/python3.7/site-packages/IPython/core/interactiveshell.py:3058: DtypeWarning: Columns (4,5) have mixed types. Specify dtype option on import or set low_memory=False.\n",
      "  interactivity=interactivity, compiler=compiler, result=result)\n"
     ]
    }
   ],
   "source": [
    "import pandas as pd\n",
    "\n",
    "df = pd.read_csv('../data/mimic/NOTEEVENTS.csv', header=0, sep=',', quotechar='\"', error_bad_lines=False)"
   ]
  },
  {
   "cell_type": "code",
   "execution_count": 7,
   "metadata": {},
   "outputs": [],
   "source": [
    "mimic_text_file = open('../data/mimic.txt', 'w')\n",
    "\n",
    "for summary in df['TEXT']:\n",
    "    mimic_text_file.write(' '.join(summary.split()) + '\\n')\n",
    "mimic_text_file.close()"
   ]
  },
  {
   "cell_type": "markdown",
   "metadata": {},
   "source": [
    "# Creating splits"
   ]
  },
  {
   "cell_type": "code",
   "execution_count": 9,
   "metadata": {},
   "outputs": [],
   "source": [
    "pubmed_text_file = open('../data/pubmed.txt', 'r')\n",
    "mimic_text_file = open('../data/mimic.txt', 'r')\n",
    "\n",
    "train_file = open('../data/train_combined.txt', 'w')\n",
    "train_half_file = open('../data/train_combined_half.txt', 'w')\n",
    "valid_file = open('../data/valid_combined.txt', 'w')\n",
    "\n",
    "import random"
   ]
  },
  {
   "cell_type": "code",
   "execution_count": null,
   "metadata": {},
   "outputs": [],
   "source": [
    "for line in pubmed_text_file:\n",
    "    rand1 = random.random()\n",
    "    if rand1 < 0.005:\n",
    "        valid_file.write(line)\n",
    "    else:\n",
    "        train_file.write(line)\n",
    "        rand2 = random.random()\n",
    "        if rand2 < 0.5:\n",
    "            train_half_file.write(line)\n",
    "pubmed_text_file.close()\n",
    "\n",
    "for line in mimic_text_file:\n",
    "    rand1 = random.random()\n",
    "    if rand1 < 0.005:\n",
    "        valid_file.write(line)\n",
    "    else:\n",
    "        train_file.write(line)\n",
    "        rand2 = random.random()\n",
    "        if rand2 < 0.5:\n",
    "            train_half_file.write(line)\n",
    "mimic_text_file.close()\n",
    "\n",
    "train_file.close()\n",
    "valid_file.close()\n",
    "train_half_file.close()"
   ]
  },
  {
   "cell_type": "code",
   "execution_count": null,
   "metadata": {},
   "outputs": [],
   "source": []
  }
 ],
 "metadata": {
  "kernelspec": {
   "display_name": "Python 3",
   "language": "python",
   "name": "python3"
  },
  "language_info": {
   "codemirror_mode": {
    "name": "ipython",
    "version": 3
   },
   "file_extension": ".py",
   "mimetype": "text/x-python",
   "name": "python",
   "nbconvert_exporter": "python",
   "pygments_lexer": "ipython3",
   "version": "3.7.4"
  }
 },
 "nbformat": 4,
 "nbformat_minor": 2
}
